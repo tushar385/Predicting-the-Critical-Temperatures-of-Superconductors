{
  "nbformat": 4,
  "nbformat_minor": 0,
  "metadata": {
    "kernelspec": {
      "display_name": "Python 3",
      "language": "python",
      "name": "python3"
    },
    "language_info": {
      "codemirror_mode": {
        "name": "ipython",
        "version": 3
      },
      "file_extension": ".py",
      "mimetype": "text/x-python",
      "name": "python",
      "nbconvert_exporter": "python",
      "pygments_lexer": "ipython3",
      "version": "3.7.4"
    },
    "colab": {
      "name": "Activity7.01.ipynb",
      "provenance": [],
      "collapsed_sections": [],
      "toc_visible": true
    },
    "accelerator": "GPU"
  },
  "cells": [
    {
      "cell_type": "markdown",
      "metadata": {
        "id": "sU_My08XYwa-",
        "colab_type": "text"
      },
      "source": [
        "# Superconductivity"
      ]
    },
    {
      "cell_type": "code",
      "metadata": {
        "id": "WvHSVS8KYwbC",
        "colab_type": "code",
        "colab": {}
      },
      "source": [
        "import pandas as pd\n",
        "from sklearn.linear_model import LinearRegression, Lasso, Ridge\n",
        "from sklearn.model_selection import train_test_split\n",
        "from sklearn.metrics import mean_squared_error\n",
        "from sklearn.pipeline import Pipeline\n",
        "from sklearn.preprocessing import MinMaxScaler, PolynomialFeatures"
      ],
      "execution_count": 1,
      "outputs": []
    },
    {
      "cell_type": "code",
      "metadata": {
        "id": "rM_bC_tEYwbP",
        "colab_type": "code",
        "colab": {}
      },
      "source": [
        "_df = pd.read_csv('/content/train.csv')\n"
      ],
      "execution_count": 2,
      "outputs": []
    },
    {
      "cell_type": "code",
      "metadata": {
        "id": "iQtvURvTYwbZ",
        "colab_type": "code",
        "colab": {
          "base_uri": "https://localhost:8080/",
          "height": 1000
        },
        "outputId": "2077bec8-05be-46c8-fcf3-95bcbc81b13d"
      },
      "source": [
        "_df.info()"
      ],
      "execution_count": 3,
      "outputs": [
        {
          "output_type": "stream",
          "text": [
            "<class 'pandas.core.frame.DataFrame'>\n",
            "RangeIndex: 21263 entries, 0 to 21262\n",
            "Data columns (total 82 columns):\n",
            " #   Column                           Non-Null Count  Dtype  \n",
            "---  ------                           --------------  -----  \n",
            " 0   number_of_elements               21263 non-null  int64  \n",
            " 1   mean_atomic_mass                 21263 non-null  float64\n",
            " 2   wtd_mean_atomic_mass             21263 non-null  float64\n",
            " 3   gmean_atomic_mass                21263 non-null  float64\n",
            " 4   wtd_gmean_atomic_mass            21263 non-null  float64\n",
            " 5   entropy_atomic_mass              21263 non-null  float64\n",
            " 6   wtd_entropy_atomic_mass          21263 non-null  float64\n",
            " 7   range_atomic_mass                21263 non-null  float64\n",
            " 8   wtd_range_atomic_mass            21263 non-null  float64\n",
            " 9   std_atomic_mass                  21263 non-null  float64\n",
            " 10  wtd_std_atomic_mass              21263 non-null  float64\n",
            " 11  mean_fie                         21263 non-null  float64\n",
            " 12  wtd_mean_fie                     21263 non-null  float64\n",
            " 13  gmean_fie                        21263 non-null  float64\n",
            " 14  wtd_gmean_fie                    21263 non-null  float64\n",
            " 15  entropy_fie                      21263 non-null  float64\n",
            " 16  wtd_entropy_fie                  21263 non-null  float64\n",
            " 17  range_fie                        21263 non-null  float64\n",
            " 18  wtd_range_fie                    21263 non-null  float64\n",
            " 19  std_fie                          21263 non-null  float64\n",
            " 20  wtd_std_fie                      21263 non-null  float64\n",
            " 21  mean_atomic_radius               21263 non-null  float64\n",
            " 22  wtd_mean_atomic_radius           21263 non-null  float64\n",
            " 23  gmean_atomic_radius              21263 non-null  float64\n",
            " 24  wtd_gmean_atomic_radius          21263 non-null  float64\n",
            " 25  entropy_atomic_radius            21263 non-null  float64\n",
            " 26  wtd_entropy_atomic_radius        21263 non-null  float64\n",
            " 27  range_atomic_radius              21263 non-null  int64  \n",
            " 28  wtd_range_atomic_radius          21263 non-null  float64\n",
            " 29  std_atomic_radius                21263 non-null  float64\n",
            " 30  wtd_std_atomic_radius            21263 non-null  float64\n",
            " 31  mean_Density                     21263 non-null  float64\n",
            " 32  wtd_mean_Density                 21263 non-null  float64\n",
            " 33  gmean_Density                    21263 non-null  float64\n",
            " 34  wtd_gmean_Density                21263 non-null  float64\n",
            " 35  entropy_Density                  21263 non-null  float64\n",
            " 36  wtd_entropy_Density              21263 non-null  float64\n",
            " 37  range_Density                    21263 non-null  float64\n",
            " 38  wtd_range_Density                21263 non-null  float64\n",
            " 39  std_Density                      21263 non-null  float64\n",
            " 40  wtd_std_Density                  21263 non-null  float64\n",
            " 41  mean_ElectronAffinity            21263 non-null  float64\n",
            " 42  wtd_mean_ElectronAffinity        21263 non-null  float64\n",
            " 43  gmean_ElectronAffinity           21263 non-null  float64\n",
            " 44  wtd_gmean_ElectronAffinity       21263 non-null  float64\n",
            " 45  entropy_ElectronAffinity         21263 non-null  float64\n",
            " 46  wtd_entropy_ElectronAffinity     21263 non-null  float64\n",
            " 47  range_ElectronAffinity           21263 non-null  float64\n",
            " 48  wtd_range_ElectronAffinity       21263 non-null  float64\n",
            " 49  std_ElectronAffinity             21263 non-null  float64\n",
            " 50  wtd_std_ElectronAffinity         21263 non-null  float64\n",
            " 51  mean_FusionHeat                  21263 non-null  float64\n",
            " 52  wtd_mean_FusionHeat              21263 non-null  float64\n",
            " 53  gmean_FusionHeat                 21263 non-null  float64\n",
            " 54  wtd_gmean_FusionHeat             21263 non-null  float64\n",
            " 55  entropy_FusionHeat               21263 non-null  float64\n",
            " 56  wtd_entropy_FusionHeat           21263 non-null  float64\n",
            " 57  range_FusionHeat                 21263 non-null  float64\n",
            " 58  wtd_range_FusionHeat             21263 non-null  float64\n",
            " 59  std_FusionHeat                   21263 non-null  float64\n",
            " 60  wtd_std_FusionHeat               21263 non-null  float64\n",
            " 61  mean_ThermalConductivity         21263 non-null  float64\n",
            " 62  wtd_mean_ThermalConductivity     21263 non-null  float64\n",
            " 63  gmean_ThermalConductivity        21263 non-null  float64\n",
            " 64  wtd_gmean_ThermalConductivity    21263 non-null  float64\n",
            " 65  entropy_ThermalConductivity      21263 non-null  float64\n",
            " 66  wtd_entropy_ThermalConductivity  21263 non-null  float64\n",
            " 67  range_ThermalConductivity        21263 non-null  float64\n",
            " 68  wtd_range_ThermalConductivity    21263 non-null  float64\n",
            " 69  std_ThermalConductivity          21263 non-null  float64\n",
            " 70  wtd_std_ThermalConductivity      21263 non-null  float64\n",
            " 71  mean_Valence                     21263 non-null  float64\n",
            " 72  wtd_mean_Valence                 21263 non-null  float64\n",
            " 73  gmean_Valence                    21263 non-null  float64\n",
            " 74  wtd_gmean_Valence                21263 non-null  float64\n",
            " 75  entropy_Valence                  21263 non-null  float64\n",
            " 76  wtd_entropy_Valence              21263 non-null  float64\n",
            " 77  range_Valence                    21263 non-null  int64  \n",
            " 78  wtd_range_Valence                21263 non-null  float64\n",
            " 79  std_Valence                      21263 non-null  float64\n",
            " 80  wtd_std_Valence                  21263 non-null  float64\n",
            " 81  critical_temp                    21263 non-null  float64\n",
            "dtypes: float64(79), int64(3)\n",
            "memory usage: 13.3 MB\n"
          ],
          "name": "stdout"
        }
      ]
    },
    {
      "cell_type": "code",
      "metadata": {
        "id": "COt02qnPYwbl",
        "colab_type": "code",
        "colab": {}
      },
      "source": [
        "X = _df.drop(['critical_temp'], axis=1).values"
      ],
      "execution_count": 4,
      "outputs": []
    },
    {
      "cell_type": "code",
      "metadata": {
        "id": "MF0pYsyfYwbu",
        "colab_type": "code",
        "colab": {}
      },
      "source": [
        "y = _df['critical_temp'].values"
      ],
      "execution_count": 5,
      "outputs": []
    },
    {
      "cell_type": "code",
      "metadata": {
        "id": "m6XpHp0_YwcA",
        "colab_type": "code",
        "colab": {}
      },
      "source": [
        "train_X, eval_X, train_y, eval_y = train_test_split(X, y, test_size=0.8, random_state=0)"
      ],
      "execution_count": 6,
      "outputs": []
    },
    {
      "cell_type": "code",
      "metadata": {
        "id": "jJgSu31yYwcK",
        "colab_type": "code",
        "colab": {}
      },
      "source": [
        "model_1 = LinearRegression()"
      ],
      "execution_count": 7,
      "outputs": []
    },
    {
      "cell_type": "code",
      "metadata": {
        "id": "gxbLdguRYwcX",
        "colab_type": "code",
        "colab": {
          "base_uri": "https://localhost:8080/",
          "height": 34
        },
        "outputId": "4308167e-c004-4433-97c4-0d292e29ed59"
      },
      "source": [
        "model_1.fit(train_X, train_y)"
      ],
      "execution_count": 8,
      "outputs": [
        {
          "output_type": "execute_result",
          "data": {
            "text/plain": [
              "LinearRegression(copy_X=True, fit_intercept=True, n_jobs=None, normalize=False)"
            ]
          },
          "metadata": {
            "tags": []
          },
          "execution_count": 8
        }
      ]
    },
    {
      "cell_type": "code",
      "metadata": {
        "id": "6ujrS-EFYwcn",
        "colab_type": "code",
        "colab": {
          "base_uri": "https://localhost:8080/",
          "height": 34
        },
        "outputId": "3a45cf89-fa48-42db-9031-4ed3eadd6e47"
      },
      "source": [
        "print('Model 1 R2 Score: {}'.format(model_1.score(eval_X, eval_y)))"
      ],
      "execution_count": 9,
      "outputs": [
        {
          "output_type": "stream",
          "text": [
            "Model 1 R2 Score: 0.7328447712730802\n"
          ],
          "name": "stdout"
        }
      ]
    },
    {
      "cell_type": "code",
      "metadata": {
        "id": "Wq88v_ISYwcz",
        "colab_type": "code",
        "colab": {
          "base_uri": "https://localhost:8080/",
          "height": 374
        },
        "outputId": "3168deb0-af1c-4225-cfbb-9d8df2222d00"
      },
      "source": [
        "print(model_1.coef_)"
      ],
      "execution_count": 10,
      "outputs": [
        {
          "output_type": "stream",
          "text": [
            "[-4.94346491e+00  8.70902756e-01 -9.98866501e-01 -5.83760774e-01\n",
            "  7.93953012e-01 -2.56095021e+01 -5.50632648e+00  1.27121023e-01\n",
            " -3.64947050e-02 -2.33513663e-01 -3.17000184e-02  3.10498264e-01\n",
            " -2.70341636e-01 -3.27264900e-01  3.01282843e-01 -8.31664513e+01\n",
            "  4.76913648e+01  8.40711399e-02  2.07050106e-02 -2.97568138e-01\n",
            "  3.97698378e-02 -1.06142981e+00  3.61994102e+00  6.70321650e-01\n",
            " -3.22006412e+00  4.02729358e+01  4.97586647e+01  1.91181858e-01\n",
            " -8.63617280e-02 -1.01111516e-01 -6.03489660e-01 -5.08255800e-03\n",
            "  1.01228657e-03  2.34243690e-03  6.57781429e-04  1.24587526e+01\n",
            " -1.10269822e+01 -1.30154742e-03  5.73536446e-04  4.95127593e-03\n",
            " -9.30322207e-04  5.82173815e-02  4.77320536e-01  5.07267163e-02\n",
            " -5.53776412e-01  5.02250052e+00 -1.96605153e+01 -3.58831794e-01\n",
            " -1.02331087e-01  1.14617678e+00 -5.43201942e-01  1.66517118e+00\n",
            " -1.86511975e+00 -1.18487297e+00  1.27906539e+00 -2.20915415e+01\n",
            "  2.34252719e+01 -4.11107209e-01  7.35352108e-01 -5.28505687e-01\n",
            "  7.74281630e-01 -1.78504148e-01  5.87315418e-01  4.71295603e-02\n",
            " -4.18163312e-01  7.81304600e+00  6.87307727e+00 -2.97522968e-02\n",
            " -2.06281413e-01  2.10538634e-01 -3.98675109e-02 -5.52756012e+00\n",
            "  8.24378449e+00  7.98555157e+00 -1.16791127e+01  8.10069280e+01\n",
            " -8.54657430e+01  4.87898207e+00 -2.42910779e+00  3.46557465e+00\n",
            " -2.07905810e+01]\n"
          ],
          "name": "stdout"
        }
      ]
    },
    {
      "cell_type": "code",
      "metadata": {
        "id": "ZF68wHZOYwdF",
        "colab_type": "code",
        "colab": {}
      },
      "source": [
        "preds_1 = model_1.predict(eval_X)"
      ],
      "execution_count": 11,
      "outputs": []
    },
    {
      "cell_type": "code",
      "metadata": {
        "id": "YSFTdEG0YwdN",
        "colab_type": "code",
        "colab": {
          "base_uri": "https://localhost:8080/",
          "height": 34
        },
        "outputId": "e5ab4e7b-fd5a-4726-e6d3-58eab74254ba"
      },
      "source": [
        "print('Model 1 MSE: {}'.format(mean_squared_error(eval_y, preds_1)))"
      ],
      "execution_count": 12,
      "outputs": [
        {
          "output_type": "stream",
          "text": [
            "Model 1 MSE: 314.12658901219083\n"
          ],
          "name": "stdout"
        }
      ]
    },
    {
      "cell_type": "code",
      "metadata": {
        "id": "kYtTSmuWYwdh",
        "colab_type": "code",
        "colab": {}
      },
      "source": [
        "steps = [\n",
        "    ('scaler', MinMaxScaler()),\n",
        "    ('poly', PolynomialFeatures(degree=3, interaction_only=True)),\n",
        "    ('model', LinearRegression())\n",
        "]"
      ],
      "execution_count": 13,
      "outputs": []
    },
    {
      "cell_type": "code",
      "metadata": {
        "id": "xUh_ecd-Ywdo",
        "colab_type": "code",
        "colab": {}
      },
      "source": [
        "model_2 = Pipeline(steps)"
      ],
      "execution_count": 14,
      "outputs": []
    },
    {
      "cell_type": "code",
      "metadata": {
        "id": "ieMY-QbBYwdw",
        "colab_type": "code",
        "colab": {
          "base_uri": "https://localhost:8080/",
          "height": 170
        },
        "outputId": "392df076-4bc4-49c3-a1c3-611dd7b2dfe8"
      },
      "source": [
        "model_2.fit(train_X, train_y)"
      ],
      "execution_count": 15,
      "outputs": [
        {
          "output_type": "execute_result",
          "data": {
            "text/plain": [
              "Pipeline(memory=None,\n",
              "         steps=[('scaler', MinMaxScaler(copy=True, feature_range=(0, 1))),\n",
              "                ('poly',\n",
              "                 PolynomialFeatures(degree=3, include_bias=True,\n",
              "                                    interaction_only=True, order='C')),\n",
              "                ('model',\n",
              "                 LinearRegression(copy_X=True, fit_intercept=True, n_jobs=None,\n",
              "                                  normalize=False))],\n",
              "         verbose=False)"
            ]
          },
          "metadata": {
            "tags": []
          },
          "execution_count": 15
        }
      ]
    },
    {
      "cell_type": "code",
      "metadata": {
        "id": "2nqUro6RYwd4",
        "colab_type": "code",
        "colab": {
          "base_uri": "https://localhost:8080/",
          "height": 34
        },
        "outputId": "a5140de6-29aa-4536-d04c-00ee9a039fac"
      },
      "source": [
        "print('Model 2 R2 Score: {}'.format(model_2.score(eval_X, eval_y)))"
      ],
      "execution_count": 16,
      "outputs": [
        {
          "output_type": "stream",
          "text": [
            "Model 2 R2 Score: -3.3859827225630546e+18\n"
          ],
          "name": "stdout"
        }
      ]
    },
    {
      "cell_type": "code",
      "metadata": {
        "id": "lK2jlKRnYweA",
        "colab_type": "code",
        "colab": {
          "base_uri": "https://localhost:8080/",
          "height": 34
        },
        "outputId": "59f5a33e-fc58-4302-b1b8-cef45c4751dd"
      },
      "source": [
        "print('Number of coefficients: {}'.format(len(model_2[-1].coef_)))"
      ],
      "execution_count": 17,
      "outputs": [
        {
          "output_type": "stream",
          "text": [
            "Number of coefficients: 88642\n"
          ],
          "name": "stdout"
        }
      ]
    },
    {
      "cell_type": "code",
      "metadata": {
        "id": "6ocg0UwKYweL",
        "colab_type": "code",
        "colab": {}
      },
      "source": [
        "steps = [\n",
        "    ('scaler', MinMaxScaler()),\n",
        "    ('poly', PolynomialFeatures(degree=3, interaction_only=True)),\n",
        "    ('model', Lasso(alpha=0.001, max_iter=2000))\n",
        "]"
      ],
      "execution_count": 18,
      "outputs": []
    },
    {
      "cell_type": "code",
      "metadata": {
        "id": "g_nHfk92YweZ",
        "colab_type": "code",
        "colab": {}
      },
      "source": [
        "lasso_model = Pipeline(steps)"
      ],
      "execution_count": 19,
      "outputs": []
    },
    {
      "cell_type": "code",
      "metadata": {
        "id": "g2pUJSaEYwek",
        "colab_type": "code",
        "colab": {
          "base_uri": "https://localhost:8080/",
          "height": 258
        },
        "outputId": "49f9e165-6413-4962-80b2-0f2c513f2a2c"
      },
      "source": [
        "lasso_model.fit(train_X, train_y)"
      ],
      "execution_count": 20,
      "outputs": [
        {
          "output_type": "stream",
          "text": [
            "/usr/local/lib/python3.6/dist-packages/sklearn/linear_model/_coordinate_descent.py:476: ConvergenceWarning: Objective did not converge. You might want to increase the number of iterations. Duality gap: 192283.14614944346, tolerance: 494.61267754025044\n",
            "  positive)\n"
          ],
          "name": "stderr"
        },
        {
          "output_type": "execute_result",
          "data": {
            "text/plain": [
              "Pipeline(memory=None,\n",
              "         steps=[('scaler', MinMaxScaler(copy=True, feature_range=(0, 1))),\n",
              "                ('poly',\n",
              "                 PolynomialFeatures(degree=3, include_bias=True,\n",
              "                                    interaction_only=True, order='C')),\n",
              "                ('model',\n",
              "                 Lasso(alpha=0.001, copy_X=True, fit_intercept=True,\n",
              "                       max_iter=2000, normalize=False, positive=False,\n",
              "                       precompute=False, random_state=None, selection='cyclic',\n",
              "                       tol=0.0001, warm_start=False))],\n",
              "         verbose=False)"
            ]
          },
          "metadata": {
            "tags": []
          },
          "execution_count": 20
        }
      ]
    },
    {
      "cell_type": "code",
      "metadata": {
        "id": "cVUYlxrKYwe3",
        "colab_type": "code",
        "colab": {
          "base_uri": "https://localhost:8080/",
          "height": 34
        },
        "outputId": "993ce4ab-f268-413a-8b84-31e03bd07e2e"
      },
      "source": [
        "print('Lasso Model R2 Score: {}'.format(lasso_model.score(eval_X, eval_y)))"
      ],
      "execution_count": 21,
      "outputs": [
        {
          "output_type": "stream",
          "text": [
            "Lasso Model R2 Score: 0.8325230040978593\n"
          ],
          "name": "stdout"
        }
      ]
    },
    {
      "cell_type": "code",
      "metadata": {
        "id": "B-z_yTGAYwfB",
        "colab_type": "code",
        "colab": {
          "base_uri": "https://localhost:8080/",
          "height": 153
        },
        "outputId": "aa01b4f0-5d63-4bcd-8c63-1d0801261c70"
      },
      "source": [
        "print(lasso_model[-1].coef_[:30])"
      ],
      "execution_count": 22,
      "outputs": [
        {
          "output_type": "stream",
          "text": [
            "[ 0.00000000e+00  8.74340500e-02 -7.95095837e+00 -1.30139088e-01\n",
            " -0.00000000e+00  0.00000000e+00  0.00000000e+00  3.38565726e+01\n",
            "  0.00000000e+00 -0.00000000e+00 -4.13763260e+00 -2.65279487e-02\n",
            " -0.00000000e+00 -0.00000000e+00 -0.00000000e+00 -0.00000000e+00\n",
            " -0.00000000e+00  1.22329305e+01  0.00000000e+00 -0.00000000e+00\n",
            " -0.00000000e+00 -1.12633645e+01  0.00000000e+00  0.00000000e+00\n",
            "  0.00000000e+00  0.00000000e+00 -0.00000000e+00  0.00000000e+00\n",
            "  0.00000000e+00 -9.08364155e+00]\n"
          ],
          "name": "stdout"
        }
      ]
    },
    {
      "cell_type": "code",
      "metadata": {
        "id": "WF5IYKFoYwfN",
        "colab_type": "code",
        "colab": {}
      },
      "source": [
        "steps = [\n",
        "    ('scaler', MinMaxScaler()),\n",
        "    ('poly', PolynomialFeatures(degree=3, interaction_only=True)),\n",
        "    ('model', Ridge(alpha=0.9))\n",
        "]"
      ],
      "execution_count": 23,
      "outputs": []
    },
    {
      "cell_type": "code",
      "metadata": {
        "id": "x1UeGXthYwfV",
        "colab_type": "code",
        "colab": {}
      },
      "source": [
        "ridge_model = Pipeline(steps)"
      ],
      "execution_count": 24,
      "outputs": []
    },
    {
      "cell_type": "code",
      "metadata": {
        "id": "4Q4arZazYwfv",
        "colab_type": "code",
        "colab": {
          "base_uri": "https://localhost:8080/",
          "height": 187
        },
        "outputId": "c11d8f7d-0e26-4e45-c750-00ad84ad7fea"
      },
      "source": [
        "ridge_model.fit(train_X, train_y)"
      ],
      "execution_count": 25,
      "outputs": [
        {
          "output_type": "execute_result",
          "data": {
            "text/plain": [
              "Pipeline(memory=None,\n",
              "         steps=[('scaler', MinMaxScaler(copy=True, feature_range=(0, 1))),\n",
              "                ('poly',\n",
              "                 PolynomialFeatures(degree=3, include_bias=True,\n",
              "                                    interaction_only=True, order='C')),\n",
              "                ('model',\n",
              "                 Ridge(alpha=0.9, copy_X=True, fit_intercept=True,\n",
              "                       max_iter=None, normalize=False, random_state=None,\n",
              "                       solver='auto', tol=0.001))],\n",
              "         verbose=False)"
            ]
          },
          "metadata": {
            "tags": []
          },
          "execution_count": 25
        }
      ]
    },
    {
      "cell_type": "code",
      "metadata": {
        "id": "ipeX9bwqYwf8",
        "colab_type": "code",
        "colab": {
          "base_uri": "https://localhost:8080/",
          "height": 34
        },
        "outputId": "42e0bb1a-83f4-4d88-8fd3-89d4e914beb1"
      },
      "source": [
        "print('Ridge Model R2 score: {}'.format(ridge_model.score(eval_X, eval_y)))"
      ],
      "execution_count": 26,
      "outputs": [
        {
          "output_type": "stream",
          "text": [
            "Ridge Model R2 score: 0.8322365420648513\n"
          ],
          "name": "stdout"
        }
      ]
    },
    {
      "cell_type": "code",
      "metadata": {
        "id": "ThQ4eulRYwgC",
        "colab_type": "code",
        "colab": {
          "base_uri": "https://localhost:8080/",
          "height": 102
        },
        "outputId": "e9c3f682-64fa-4d96-8d55-afc0396ffe3c"
      },
      "source": [
        "print(ridge_model[-1].coef_[:30])"
      ],
      "execution_count": 27,
      "outputs": [
        {
          "output_type": "stream",
          "text": [
            "[ 0.         -0.42062418 -3.87358249 -4.24082447 -2.87059487 -1.42389767\n",
            " -1.74429581  4.28948862 -1.18107119 -1.92438245 -1.03653114 -0.28070952\n",
            "  0.49678614 -2.44639462  1.5030846  -0.84415353 -0.68920212  4.01266927\n",
            "  0.15348104 -1.39519727 -1.52030442 -4.20145985 -1.51392581  2.9521117\n",
            " -1.71399758  2.19445947 -1.57055309  2.43472526  0.55081481 -3.93851654]\n"
          ],
          "name": "stdout"
        }
      ]
    },
    {
      "cell_type": "code",
      "metadata": {
        "id": "SqoCXfPM71qr",
        "colab_type": "code",
        "colab": {}
      },
      "source": [
        ""
      ],
      "execution_count": null,
      "outputs": []
    }
  ]
}